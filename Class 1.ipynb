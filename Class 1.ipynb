{
 "cells": [
  {
   "cell_type": "markdown",
   "metadata": {
    "deletable": true,
    "editable": true
   },
   "source": [
    "# Python For Data Analysis\n",
    "## Class 1\n",
    "\n",
    "The objectives of this class are for y'all to have:\n",
    "\n",
    "1. Installed python3 and created a virtualenvironment to work in\n",
    "2. Gained some familiarity with python's package manager, `pip`\n",
    "3. Learned to use the `ipython` interactive shell\n",
    "4. Learned some of the basics of python functionality and style\n",
    "5. Learned about python notebooks\n",
    "6. Done some basic plotting and work with `pandas`"
   ]
  },
  {
   "cell_type": "markdown",
   "metadata": {
    "deletable": true,
    "editable": true
   },
   "source": [
    "### Install python and virtualenv\n",
    "\n",
    "Install Homebrew\n",
    "\n",
    "```sh\n",
    "$ /usr/bin/ruby -e \"$(curl -fsSL https://raw.githubusercontent.com/Homebrew/install/master/install)\"\n",
    "```\n",
    "\n",
    "Update homebrew\n",
    "```sh\n",
    "$ brew update\n",
    "$ brew doctor\n",
    "```\n",
    "\n",
    "\n",
    "Install Python3\n",
    "```sh\n",
    "$ brew install python3\n",
    "```\n",
    "\n",
    "Install virtualenv and virtualenv wrapper\n",
    "\n",
    "```sh\n",
    "$ pip3 install virtualenv\n",
    "$ pip3 install virtualenvwrapper\n",
    "$ export VIRTUALENVWRAPPER_PYTHON=/usr/local/bin/python3\n",
    "$ source /usr/local/bin/virtualenvwrapper.sh\n",
    "```\n",
    "\n",
    "Make sure virtualenvwrapper will start correctly for next time you open a new shell\n",
    "\n",
    "```sh\n",
    "$ echo \"export VIRTUALENVWRAPPER_PYTHON=/usr/local/bin/python3\" >> ~/.bash_profile\n",
    "$ echo \"source /usr/local/bin/virtualenvwrapper.sh\" >> ~/.bash_profile\n",
    "```"
   ]
  },
  {
   "cell_type": "markdown",
   "metadata": {
    "deletable": true,
    "editable": true
   },
   "source": [
    "### virtual environments in python\n",
    "\n",
    "`pip` is python's package manager. `pip3` is used for installing packages for `python3`. If we get our virtual environments set up correctly, you won't have to remember when to use `pip3`, `pip` should just work. However, it's good to know that there's some magic happening in the background.\n",
    "\n",
    "Virtual environments allow you to easily keep track of which external libraries (and versions!) are required for a project. This may seem like a pain in the beginning, but will end up saving you a lot of confusing down the line.\n",
    "\n",
    "Let's create a virtual environment for ourselves to work in\n",
    "\n",
    "```sh\n",
    "$ cd ~/workspace\n",
    "$ mkdir python-for-data-analysis\n",
    "$ cd python-for-data-analysis\n",
    "$ mkvirtualenv python-for-data-analysis\n",
    "$ setvirtualenvproject\n",
    "```\n",
    "\n",
    "To deactivate a virtualenvironment, we simply use the `deactivate` command\n",
    "\n",
    "```sh\n",
    "$ deactivate\n",
    "```\n",
    "\n",
    "With our project set up this way, we can easily jump to the directory our project is in when we want to get started\n",
    "\n",
    "```\n",
    "$ cd ~\n",
    "$ workon python-for-data-analysis\n",
    "$ pwd\n",
    "```"
   ]
  },
  {
   "cell_type": "markdown",
   "metadata": {
    "deletable": true,
    "editable": true
   },
   "source": [
    "### IPython\n",
    "\n",
    "We'll use the IPython interactive shell for developing.\n",
    "\n",
    "\n",
    "Once we've activated our virtual environment, we need to install IPython.\n",
    "```sh\n",
    "$ pip install ipython\n",
    "```\n",
    "\n",
    "Once we start ipython, we should see that we're working using python3:\n",
    "\n",
    "```sh\n",
    "$ ipython\n",
    "Python 3.6.0 (default, Dec 24 2016, 08:01:42) \n",
    "```\n",
    "\n",
    "IPython has some nice features for developing which we'll introduce to you over the next few weeks.\n",
    "\n",
    "** Let's Pause Here and Make Sure Everyone Has Their Virtual Environment and IPython Installation Set Up **"
   ]
  },
  {
   "cell_type": "code",
   "execution_count": null,
   "metadata": {
    "collapsed": false,
    "deletable": true,
    "editable": true
   },
   "outputs": [],
   "source": [
    "# Try the following code in your IPython repl\n",
    "print(\"Hello World!\")\n",
    "me = \"Michael\"\n",
    "    print(\"Hello \" + me + \"!\")"
   ]
  },
  {
   "cell_type": "markdown",
   "metadata": {
    "deletable": true,
    "editable": true
   },
   "source": [
    "### Some Python Basics"
   ]
  },
  {
   "cell_type": "code",
   "execution_count": null,
   "metadata": {
    "collapsed": false,
    "deletable": true,
    "editable": true,
    "scrolled": false
   },
   "outputs": [],
   "source": [
    "# variable assignment\n",
    "x = 3\n",
    "y = \"banana\"\n",
    "print(x)\n",
    "print(type(x))\n",
    "print(y)\n",
    "print(type(y))"
   ]
  },
  {
   "cell_type": "code",
   "execution_count": null,
   "metadata": {
    "collapsed": false,
    "deletable": true,
    "editable": true
   },
   "outputs": [],
   "source": [
    "# Lists\n",
    "z = [1, \"a\", x**2]\n",
    "print(z)\n",
    "\n",
    "# Python is 0-indexed!\n",
    "print(z[0])\n",
    "print(z[2])\n",
    "\n"
   ]
  },
  {
   "cell_type": "code",
   "execution_count": null,
   "metadata": {
    "collapsed": true,
    "deletable": true,
    "editable": true
   },
   "outputs": [],
   "source": [
    "# What happens if we run this?\n",
    "# print(z[3])"
   ]
  },
  {
   "cell_type": "code",
   "execution_count": null,
   "metadata": {
    "collapsed": false,
    "deletable": true,
    "editable": true
   },
   "outputs": [],
   "source": [
    "# Dictionaries\n",
    "d = {'first_name': 'Michael', 'last_name': 'Kaminsky', 'something else': z}\n",
    "print(d)\n",
    "print(d['first_name'])\n",
    "print(d['last_name'])\n",
    "print(d['something else'])"
   ]
  },
  {
   "cell_type": "code",
   "execution_count": null,
   "metadata": {
    "collapsed": false,
    "deletable": true,
    "editable": true,
    "scrolled": true
   },
   "outputs": [],
   "source": [
    "print(d.keys())"
   ]
  },
  {
   "cell_type": "code",
   "execution_count": null,
   "metadata": {
    "collapsed": false,
    "deletable": true,
    "editable": true
   },
   "outputs": [],
   "source": [
    "# Loops\n",
    "for i in range(10):\n",
    "    print(i)"
   ]
  },
  {
   "cell_type": "code",
   "execution_count": null,
   "metadata": {
    "collapsed": false,
    "deletable": true,
    "editable": true
   },
   "outputs": [],
   "source": [
    "for item in z:\n",
    "    print(item)    "
   ]
  },
  {
   "cell_type": "markdown",
   "metadata": {
    "deletable": true,
    "editable": true
   },
   "source": [
    "#### Exercise\n",
    "1. Create a dictionary with the names of your family members where their first name is the key, the value is their age.\n",
    "2. Write a loop that loops through all entries in the dictionary and prints your family member's first names and ages"
   ]
  },
  {
   "cell_type": "code",
   "execution_count": null,
   "metadata": {
    "collapsed": false,
    "deletable": true,
    "editable": true
   },
   "outputs": [],
   "source": [
    "# Functions\n",
    "\n",
    "def my_func():\n",
    "    print(\"hello world!\") # Note: white space matters!\n",
    "    \n",
    "my_func()"
   ]
  },
  {
   "cell_type": "code",
   "execution_count": null,
   "metadata": {
    "collapsed": false,
    "deletable": true,
    "editable": true
   },
   "outputs": [],
   "source": [
    "def my_other_func(name):\n",
    "    print(\"Hello \" + name)\n",
    "    \n",
    "my_other_func(\"Michael\")"
   ]
  },
  {
   "cell_type": "code",
   "execution_count": null,
   "metadata": {
    "collapsed": false,
    "deletable": true,
    "editable": true
   },
   "outputs": [],
   "source": [
    "def welcome(name, age=None):\n",
    "    print(\"Hello \" + name)\n",
    "    if age:\n",
    "        print(\"I understand you're \" + str(age) + \" years old\")\n",
    "    \n",
    "welcome(\"Michael\", 29)\n",
    "\n",
    "# What happens if we run this?\n",
    "# welcome(\"Michael\")\n"
   ]
  },
  {
   "cell_type": "markdown",
   "metadata": {
    "deletable": true,
    "editable": true
   },
   "source": [
    "#### Exercise\n",
    "1. Create a function that will add entries into your family member dictionary. \n",
    "2. Add the following entries: Kermit age 99, Othello age 14, William age 40"
   ]
  },
  {
   "cell_type": "markdown",
   "metadata": {
    "deletable": true,
    "editable": true
   },
   "source": [
    "### Notebooks"
   ]
  },
  {
   "cell_type": "code",
   "execution_count": null,
   "metadata": {
    "collapsed": false,
    "deletable": true,
    "editable": true,
    "scrolled": true
   },
   "outputs": [],
   "source": [
    "!pip install pandas # Ipython magic!\n",
    "!pip install jupyter\n",
    "#exit()"
   ]
  },
  {
   "cell_type": "markdown",
   "metadata": {
    "deletable": true,
    "editable": true
   },
   "source": [
    "Start up our notebook server\n",
    "```sh\n",
    "$ jupyter\n",
    "```\n",
    "\n",
    "Open a browser (if one doesn't open for you). And navigate to http://localhost:8888/"
   ]
  },
  {
   "cell_type": "markdown",
   "metadata": {
    "deletable": true,
    "editable": true
   },
   "source": [
    "#### Notebook Basics\n",
    "\n",
    "Notebooks are a very convenient way for organizing and, most importantly, sharing data analyses. They allow for single-purpose explanatory scripts to be shared (complete with visualizations). They are often used in research settings or for prototyping. The ability to intersperse code with formatted, explanatory markdown is especially useful.\n",
    "\n",
    "Basic shortcuts and UI:\n",
    "* Edit a cell by hitting \"enter\"\n",
    "* Switch out of edit  mode by hitting \"esc\"\n",
    "* Run a cell with cmd+\"enter\"\n",
    "* Add a new cell above with \"a\" (when not in edit mode)\n",
    "* Add a new cell below with \"b\" (when not in edit mode)\n",
    "\n",
    "You can find more information [in the docs](http://jupyter-notebook.readthedocs.io/en/latest/examples/Notebook/Notebook%20Basics.html)"
   ]
  },
  {
   "cell_type": "markdown",
   "metadata": {
    "deletable": true,
    "editable": true
   },
   "source": [
    "# Load 311 data\n",
    "```bash\n",
    "$ cd ../\n",
    "$ git clone https://github.com/jvns/pandas-cookbook\n",
    "$ cd python-for-data-analysis\n",
    "```\n",
    "    "
   ]
  },
  {
   "cell_type": "code",
   "execution_count": null,
   "metadata": {
    "collapsed": false,
    "deletable": true,
    "editable": true
   },
   "outputs": [],
   "source": [
    "import pandas as pd # use 'as' keyword to namespace a package\n",
    "complaints = pd.read_csv('../pandas-cookbook/data/311-service-requests.csv', low_memory=False)\n"
   ]
  },
  {
   "cell_type": "code",
   "execution_count": null,
   "metadata": {
    "collapsed": false,
    "deletable": true,
    "editable": true
   },
   "outputs": [],
   "source": [
    "print(complaints.head())"
   ]
  },
  {
   "cell_type": "code",
   "execution_count": null,
   "metadata": {
    "collapsed": false,
    "deletable": true,
    "editable": true
   },
   "outputs": [],
   "source": [
    "print(len(complaints))"
   ]
  },
  {
   "cell_type": "code",
   "execution_count": null,
   "metadata": {
    "collapsed": false,
    "deletable": true,
    "editable": true
   },
   "outputs": [],
   "source": [
    "print(complaints.columns)"
   ]
  },
  {
   "cell_type": "code",
   "execution_count": null,
   "metadata": {
    "collapsed": false,
    "deletable": true,
    "editable": true
   },
   "outputs": [],
   "source": [
    "print(complaints['Created Date'])"
   ]
  },
  {
   "cell_type": "code",
   "execution_count": null,
   "metadata": {
    "collapsed": false,
    "deletable": true,
    "editable": true
   },
   "outputs": [],
   "source": [
    "print(complaints[0:3])"
   ]
  },
  {
   "cell_type": "code",
   "execution_count": null,
   "metadata": {
    "collapsed": false,
    "deletable": true,
    "editable": true
   },
   "outputs": [],
   "source": [
    "print(complaints['Location'].dtype)"
   ]
  },
  {
   "cell_type": "markdown",
   "metadata": {
    "deletable": true,
    "editable": true
   },
   "source": [
    "#### Exercise\n",
    "Write a loop that will loop through the columns of the data frame printing their names and types"
   ]
  },
  {
   "cell_type": "code",
   "execution_count": null,
   "metadata": {
    "collapsed": false,
    "deletable": true,
    "editable": true
   },
   "outputs": [],
   "source": [
    "!pip install matplotlib\n",
    "import matplotlib\n",
    "%matplotlib inline"
   ]
  },
  {
   "cell_type": "code",
   "execution_count": null,
   "metadata": {
    "collapsed": true,
    "deletable": true,
    "editable": true
   },
   "outputs": [],
   "source": [
    "complaints['created'] = pd.to_datetime(complaints['Created Date'])\n",
    "complaints.set_index('created', inplace=True)"
   ]
  },
  {
   "cell_type": "code",
   "execution_count": null,
   "metadata": {
    "collapsed": false,
    "deletable": true,
    "editable": true
   },
   "outputs": [],
   "source": [
    "complaints['Unique Key'].groupby([complaints.index.date]).count().plot(kind='line')\n",
    "\n",
    "\n",
    "\n",
    "\n",
    "#df.groupby([df.index.date, 'action']).count().plot(kind='bar')\n"
   ]
  },
  {
   "cell_type": "code",
   "execution_count": null,
   "metadata": {
    "collapsed": false,
    "deletable": true,
    "editable": true
   },
   "outputs": [],
   "source": [
    "complaints['Unique Key'].groupby([complaints.index.date]).count().plot(kind='line', rot=90)"
   ]
  },
  {
   "cell_type": "code",
   "execution_count": null,
   "metadata": {
    "collapsed": false,
    "deletable": true,
    "editable": true
   },
   "outputs": [],
   "source": [
    "# Plot by hour\n",
    "complaints['Unique Key'].groupby([complaints.index.hour]).count().plot(kind='line', rot=90)\n",
    "\n",
    "# What's going on with this?"
   ]
  },
  {
   "cell_type": "code",
   "execution_count": null,
   "metadata": {
    "collapsed": false,
    "deletable": true,
    "editable": true
   },
   "outputs": [],
   "source": [
    "complaints[['Unique Key', 'Borough']].groupby(['Borough']).count().plot(kind='Bar', rot=90)"
   ]
  },
  {
   "cell_type": "markdown",
   "metadata": {
    "deletable": true,
    "editable": true
   },
   "source": [
    "Exercise: \n",
    "* plot a line chart with complaints by day by borough (time on the x axis, one line per borough)"
   ]
  }
 ],
 "metadata": {
  "kernelspec": {
   "display_name": "Python 3",
   "language": "python",
   "name": "python3"
  },
  "language_info": {
   "codemirror_mode": {
    "name": "ipython",
    "version": 3
   },
   "file_extension": ".py",
   "mimetype": "text/x-python",
   "name": "python",
   "nbconvert_exporter": "python",
   "pygments_lexer": "ipython3",
   "version": "3.6.0"
  }
 },
 "nbformat": 4,
 "nbformat_minor": 2
}
