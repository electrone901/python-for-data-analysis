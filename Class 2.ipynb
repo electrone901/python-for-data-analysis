{
 "cells": [
  {
   "cell_type": "markdown",
   "metadata": {},
   "source": [
    "# Python For Data Analysis\n",
    "## Class 2\n",
    "\n",
    "The objectives of this class are for y'all to have:\n",
    "\n",
    "1. Introduction to notebooks\n",
    "2. Gained familiarity with `pandas` API\n",
    "3. Started exploring our 311 data set\n",
    "4. Learned the split / apply / combine data munging paradigm\n",
    "5. Learned some interactive data analysis tricks"
   ]
  },
  {
   "cell_type": "markdown",
   "metadata": {},
   "source": [
    "### Notebooks"
   ]
  },
  {
   "cell_type": "markdown",
   "metadata": {},
   "source": [
    "Install pandas and jupyter\n",
    "\n",
    "```sh\n",
    "$ workon python-for-data-analysis\n",
    "$ pip install pandas\n",
    "$ pip install jupyter\n",
    "```\n",
    "\n",
    "Start up our notebook server\n",
    "```sh\n",
    "$ jupyter notebook\n",
    "```\n",
    "\n",
    "Open a browser (if one doesn't open for you). And navigate to http://localhost:8888/"
   ]
  },
  {
   "cell_type": "markdown",
   "metadata": {},
   "source": [
    "#### Notebook Basics\n",
    "\n",
    "Notebooks are a very convenient way for organizing and, most importantly, sharing data analyses. They allow for single-purpose explanatory scripts to be shared (complete with visualizations). They are often used in research settings or for prototyping. The ability to intersperse code with formatted, explanatory markdown is especially useful.\n",
    "\n",
    "Basic shortcuts and UI:\n",
    "* Edit a cell by hitting \"enter\"\n",
    "* Switch out of edit  mode by hitting \"esc\"\n",
    "* Run a cell with cmd+\"enter\"\n",
    "* Add a new cell above with \"a\" (when not in edit mode)\n",
    "* Add a new cell below with \"b\" (when not in edit mode)\n",
    "\n",
    "You can find more information [in the docs](http://jupyter-notebook.readthedocs.io/en/latest/examples/Notebook/Notebook%20Basics.html)"
   ]
  },
  {
   "cell_type": "markdown",
   "metadata": {},
   "source": [
    "# Load 311 data\n",
    "```bash\n",
    "$ cd ~/workspace # or wherever you store working repos\n",
    "$ git clone https://github.com/jvns/pandas-cookbook\n",
    "$ cd python-for-data-analysis\n",
    "```\n",
    "    "
   ]
  },
  {
   "cell_type": "code",
   "execution_count": 4,
   "metadata": {
    "collapsed": true
   },
   "outputs": [],
   "source": [
    "import pandas as pd # use 'as' keyword to namespace a package\n",
    "complaints = pd.read_csv('../pandas-cookbook/data/311-service-requests.csv', low_memory=False)\n"
   ]
  },
  {
   "cell_type": "code",
   "execution_count": null,
   "metadata": {},
   "outputs": [],
   "source": [
    "print(complaints.head())"
   ]
  },
  {
   "cell_type": "code",
   "execution_count": null,
   "metadata": {},
   "outputs": [],
   "source": [
    "print(len(complaints))"
   ]
  },
  {
   "cell_type": "code",
   "execution_count": null,
   "metadata": {},
   "outputs": [],
   "source": [
    "print(complaints.columns)"
   ]
  },
  {
   "cell_type": "code",
   "execution_count": null,
   "metadata": {},
   "outputs": [],
   "source": [
    "print(complaints['Created Date'])"
   ]
  },
  {
   "cell_type": "code",
   "execution_count": null,
   "metadata": {
    "collapsed": true
   },
   "outputs": [],
   "source": [
    "print(complaints[0:3])"
   ]
  },
  {
   "cell_type": "code",
   "execution_count": null,
   "metadata": {
    "collapsed": true
   },
   "outputs": [],
   "source": [
    "print(complaints['Location'].dtype)"
   ]
  },
  {
   "cell_type": "markdown",
   "metadata": {},
   "source": [
    "#### Exercise\n",
    "Write a loop that will loop through the columns of the data frame printing their names and types"
   ]
  },
  {
   "cell_type": "markdown",
   "metadata": {},
   "source": [
    "### Plotting Basics with groupby"
   ]
  },
  {
   "cell_type": "code",
   "execution_count": null,
   "metadata": {},
   "outputs": [],
   "source": [
    "!pip install matplotlib # ipython / jupyter magic\n",
    "import matplotlib\n",
    "%matplotlib inline"
   ]
  },
  {
   "cell_type": "code",
   "execution_count": null,
   "metadata": {
    "collapsed": true
   },
   "outputs": [],
   "source": [
    "complaints['created'] = pd.to_datetime(complaints['Created Date'])\n",
    "complaints.set_index('created', inplace=True)"
   ]
  },
  {
   "cell_type": "code",
   "execution_count": null,
   "metadata": {},
   "outputs": [],
   "source": [
    "complaints['Unique Key'].groupby([complaints.index.date]).count().plot(kind='line')"
   ]
  },
  {
   "cell_type": "code",
   "execution_count": null,
   "metadata": {},
   "outputs": [],
   "source": [
    "complaints['Unique Key'].groupby([complaints.index.date]).count().plot(kind='line', rot=90)"
   ]
  },
  {
   "cell_type": "code",
   "execution_count": null,
   "metadata": {
    "scrolled": true
   },
   "outputs": [],
   "source": [
    "# Plot by hour\n",
    "complaints['Unique Key'].groupby([complaints.index.hour]).count().plot(kind='line', rot=90)\n",
    "\n",
    "# What's going on with this?"
   ]
  },
  {
   "cell_type": "code",
   "execution_count": null,
   "metadata": {},
   "outputs": [],
   "source": [
    "complaints[['Unique Key', 'Borough']].groupby(['Borough']).count().plot(kind='Bar', rot=90)"
   ]
  },
  {
   "cell_type": "markdown",
   "metadata": {},
   "source": [
    "Exercise:\n",
    "* Plot a bar graph with counts of complaints by agency name in the Bronx (i.e., only show calls from the Bronx)"
   ]
  },
  {
   "cell_type": "markdown",
   "metadata": {},
   "source": [
    "### Data Cleaning and Munging with Pandas"
   ]
  },
  {
   "cell_type": "code",
   "execution_count": 6,
   "metadata": {},
   "outputs": [],
   "source": [
    "# Restart your notebook!\n",
    "# Load the data\n",
    "import pandas as pd\n",
    "complaints = pd.read_csv('../pandas-cookbook/data/311-service-requests.csv', low_memory=False)\n",
    "\n",
    "# Note: It's nice to do this in its own cell so we don't ever have to-rerun this costly line"
   ]
  },
  {
   "cell_type": "code",
   "execution_count": null,
   "metadata": {
    "collapsed": true
   },
   "outputs": [],
   "source": [
    "# Let's clean up our data by doing a few things:\n",
    "# 1) let's limit to a few columns we know are going to be interesting\n",
    "# 2) let's clean the column names so we don't have to deal with spaces or capital letters"
   ]
  },
  {
   "cell_type": "code",
   "execution_count": 7,
   "metadata": {
    "collapsed": true
   },
   "outputs": [],
   "source": [
    "complaints.columns\n",
    "useful_cols = ['Created Date', 'Closed Date','Due Date', 'Agency Name', 'Complaint Type', 'Borough', 'Status']\n",
    "cleaned = complaints[useful_cols]"
   ]
  },
  {
   "cell_type": "code",
   "execution_count": null,
   "metadata": {},
   "outputs": [],
   "source": [
    "cleaned.head()"
   ]
  },
  {
   "cell_type": "markdown",
   "metadata": {},
   "source": [
    "Exercise:\n",
    "* programatically lower-cases the column names and change the spaces to under-scores\n",
    "  * Try not to rely on the current ordering of the columns to do this"
   ]
  },
  {
   "cell_type": "code",
   "execution_count": 18,
   "metadata": {},
   "outputs": [
    {
     "name": "stderr",
     "output_type": "stream",
     "text": [
      "/Users/michaelkaminsky/.virtualenvs/python-data-analysis/lib/python3.6/site-packages/pandas/core/frame.py:2834: SettingWithCopyWarning: \n",
      "A value is trying to be set on a copy of a slice from a DataFrame\n",
      "\n",
      "See the caveats in the documentation: http://pandas.pydata.org/pandas-docs/stable/indexing.html#indexing-view-versus-copy\n",
      "  **kwargs)\n"
     ]
    }
   ],
   "source": [
    "# One solution\n",
    "cleaned.rename(columns=lambda x: x.lower().replace(' ','_'), inplace=True)"
   ]
  },
  {
   "cell_type": "markdown",
   "metadata": {},
   "source": [
    "### Value Counts"
   ]
  },
  {
   "cell_type": "code",
   "execution_count": null,
   "metadata": {},
   "outputs": [],
   "source": [
    "cleaned.head()"
   ]
  },
  {
   "cell_type": "code",
   "execution_count": null,
   "metadata": {},
   "outputs": [],
   "source": [
    "cleaned.complaint_type.unique()"
   ]
  },
  {
   "cell_type": "code",
   "execution_count": null,
   "metadata": {},
   "outputs": [],
   "source": [
    "# Let's figure out what the top complaints are\n",
    "cleaned['complaint_type'].value_counts()\n"
   ]
  },
  {
   "cell_type": "code",
   "execution_count": null,
   "metadata": {},
   "outputs": [],
   "source": [
    "cleaned['complaint_type_cln'] = cleaned['complaint_type'].str.lower()\n",
    "# cleaned.is_copy = False "
   ]
  },
  {
   "cell_type": "code",
   "execution_count": null,
   "metadata": {},
   "outputs": [],
   "source": [
    "cleaned.head()"
   ]
  },
  {
   "cell_type": "code",
   "execution_count": null,
   "metadata": {},
   "outputs": [],
   "source": [
    "cleaned['complaint_type_cln'].value_counts()"
   ]
  },
  {
   "cell_type": "markdown",
   "metadata": {},
   "source": [
    "Exercise:\n",
    "* Explore the other columns in our dataset -- do you see anything interesting?"
   ]
  },
  {
   "cell_type": "markdown",
   "metadata": {},
   "source": [
    "### Replacing data"
   ]
  },
  {
   "cell_type": "code",
   "execution_count": null,
   "metadata": {},
   "outputs": [],
   "source": [
    "# which rows have rats and noisy vehicles?\n",
    "cleaned[\"complaint_type\"].isin(['Rodent', 'Noise - Vehicle'])"
   ]
  },
  {
   "cell_type": "code",
   "execution_count": null,
   "metadata": {
    "collapsed": true
   },
   "outputs": [],
   "source": [
    "# Replace some values\n",
    "mask = cleaned[\"complaint_type\"].isin(['Rodent', 'Noise - Vehicle'])\n",
    "new_series = cleaned['complaint_type']\n",
    "# new_series = cleaned['complaint_type'].copy()\n",
    "new_series[mask] = 'rats or cars'\n",
    "\n"
   ]
  },
  {
   "cell_type": "code",
   "execution_count": null,
   "metadata": {},
   "outputs": [],
   "source": [
    "new_series.head()"
   ]
  },
  {
   "cell_type": "markdown",
   "metadata": {},
   "source": [
    "Exercise:\n",
    "* Write a function that takes a column name, a number n, and a dataframe as an argument, and returns a column with the top n categories and all other categories as \"other\""
   ]
  },
  {
   "cell_type": "markdown",
   "metadata": {},
   "source": [
    "### Time to resolution"
   ]
  },
  {
   "cell_type": "code",
   "execution_count": null,
   "metadata": {},
   "outputs": [],
   "source": [
    "### Creating a column with time-to-close\n",
    "### pd.options.mode.chained_assignment = None\n",
    "cleaned.dtypes\n",
    "cleaned['created_date'] = pd.to_datetime(cleaned['created_date'])\n",
    "cleaned['closed_date'] = pd.to_datetime(cleaned['closed_date'])\n",
    "cleaned.head()"
   ]
  },
  {
   "cell_type": "code",
   "execution_count": null,
   "metadata": {},
   "outputs": [],
   "source": [
    "cleaned.dtypes"
   ]
  },
  {
   "cell_type": "code",
   "execution_count": null,
   "metadata": {},
   "outputs": [],
   "source": [
    "cleaned['time_to_resolution'] = (cleaned['closed_date'] - cleaned['created_date']) / np.timedelta64(1, 'm')\n",
    "cleaned.head(20)"
   ]
  },
  {
   "cell_type": "markdown",
   "metadata": {},
   "source": [
    "### Basic Aggregations"
   ]
  },
  {
   "cell_type": "code",
   "execution_count": null,
   "metadata": {
    "collapsed": true
   },
   "outputs": [],
   "source": [
    "# group our data by complaint type\n",
    "by_complaint = cleaned.groupby('complaint_type_cln')"
   ]
  },
  {
   "cell_type": "code",
   "execution_count": null,
   "metadata": {},
   "outputs": [],
   "source": [
    "# average response time\n",
    "by_complaint['time_to_resolution'].mean()"
   ]
  },
  {
   "cell_type": "code",
   "execution_count": null,
   "metadata": {
    "collapsed": true
   },
   "outputs": [],
   "source": [
    "###cleaned.loc[cleaned['time_to_resolution']<0,:].head()"
   ]
  },
  {
   "cell_type": "markdown",
   "metadata": {},
   "source": [
    "Exercise:\n",
    "  * What's going on with negative time-to-resolution?\n",
    "  * Determine which types of complaints are most often late (closed_date > due_date)\n",
    "      * Which types of complaints have the highest *percentage* of late calls?\n",
    "  * From which boroughs?\n"
   ]
  },
  {
   "cell_type": "markdown",
   "metadata": {},
   "source": [
    "### More advanced Data Manipulations with Pandas"
   ]
  },
  {
   "cell_type": "markdown",
   "metadata": {
    "collapsed": true
   },
   "source": [
    "In pandas, the split-apply-combine pattern is one of the most powerful but least understood features of the tool. In fact, I don't even understand it very well, but we'll struggle through it together.\n",
    "\n",
    "We'll cover a few operations *in brief* with specific emphasis on\n",
    "* Indexes in pandas\n",
    "* groupby objects\n",
    "* unstack\n",
    "* pivot_table\n"
   ]
  },
  {
   "cell_type": "markdown",
   "metadata": {},
   "source": [
    "#### Indexes in pandas\n",
    "Indexes are convenient ways to keep track of the *grain* (i.e., what defines a \"row\") in a dataframe. Dataframes have the ability to have multiple indexes which allow for slicing-and-dicing in very sophisticated ways. Unfortunately this can also means there's a lot of complexity which can be overwhelming for people who are new to the framework.\n",
    "\n",
    "The thing to keep in mind is that indexes are **not** columns just like any other. They must be accessed (and manged) differently."
   ]
  },
  {
   "cell_type": "markdown",
   "metadata": {},
   "source": [
    "#### Groupby\n",
    "\n",
    "As we saw above, we can use `groupby()` to summarize our data. The object returned by `groupby()` is not a dataframe -- in fact, it's more like 'instructions for grouping' than actual grouped data.\n",
    "\n",
    "```python\n",
    "grpd = cleaned.groupby('Status')\n",
    "# <pandas.core.groupby.DataFrameGroupBy object at 0x113aeada0>\n",
    "```\n",
    "\n",
    "Only when we apply some sort of function to perform an aggregation do we actually get results back\n",
    "\n",
    "```python\n",
    "grpd['Status'].count()\n",
    "\n",
    "Status\n",
    "Assigned       6189\n",
    "Closed        57165\n",
    "Email Sent      129\n",
    "Open          43972\n",
    "Pending        3165\n",
    "Started         447\n",
    "Unassigned        2\n",
    "Name: Status, dtype: int64\n",
    "```\n",
    "\n",
    "When we group-by data, the column we're grouping by becomes the index of the object we're returning (rather than a column of a table. Because we're now working explicitly with indexes (and sometimes multiple indexes!) it'll be helpful to look at some of the index-specific methods available to us.\n"
   ]
  },
  {
   "cell_type": "markdown",
   "metadata": {},
   "source": [
    "#### Unstack\n",
    "\n",
    "If we group by multiple columns, we'll get data back with multiple indexes. We can \"unstack\" these indexes to get more tabular data"
   ]
  },
  {
   "cell_type": "code",
   "execution_count": 33,
   "metadata": {},
   "outputs": [
    {
     "name": "stdout",
     "output_type": "stream",
     "text": [
      "borough    status  \n",
      "BRONX      Assigned      909\n",
      "           Closed       7885\n",
      "           Open         9925\n",
      "           Pending       903\n",
      "           Started        64\n",
      "BROOKLYN   Assigned     1720\n",
      "           Closed      15967\n",
      "           Open        14224\n",
      "           Pending       847\n",
      "           Started       132\n",
      "MANHATTAN  Assigned     1703\n",
      "           Closed      12087\n",
      "           Open         9920\n",
      "           Pending       477\n",
      "           Started       101\n",
      "QUEENS     Assigned     1478\n",
      "           Closed      12313\n",
      "           Open         7578\n",
      "           Pending       783\n",
      "           Started       129\n",
      "Name: status, dtype: int64\n",
      "----------------------------\n",
      "Now Unstack!\n",
      "----------------------------\n",
      "status         Assigned   Closed  Email Sent     Open  Pending  Started  \\\n",
      "borough                                                                   \n",
      "BRONX             909.0   7885.0         NaN   9925.0    903.0     64.0   \n",
      "BROOKLYN         1720.0  15967.0         NaN  14224.0    847.0    132.0   \n",
      "MANHATTAN        1703.0  12087.0         NaN   9920.0    477.0    101.0   \n",
      "QUEENS           1478.0  12313.0         NaN   7578.0    783.0    129.0   \n",
      "STATEN ISLAND     245.0   2613.0         NaN   1819.0    120.0     20.0   \n",
      "Unspecified       134.0   6300.0       129.0    506.0     35.0      1.0   \n",
      "\n",
      "status         Unassigned  \n",
      "borough                    \n",
      "BRONX                 NaN  \n",
      "BROOKLYN              NaN  \n",
      "MANHATTAN             NaN  \n",
      "QUEENS                NaN  \n",
      "STATEN ISLAND         NaN  \n",
      "Unspecified           2.0  \n"
     ]
    }
   ],
   "source": [
    "b_s = cleaned.groupby(['borough','status'])['status'].count()\n",
    "print(b_s.head(20))\n",
    "print(\"----------------------------\")\n",
    "print(\"Now Unstack!\")\n",
    "print(\"----------------------------\")\n",
    "print(b_s.unstack())"
   ]
  },
  {
   "cell_type": "markdown",
   "metadata": {},
   "source": [
    "Our \"unstacked\" object now looks like tabular data that are much easier to work with"
   ]
  },
  {
   "cell_type": "markdown",
   "metadata": {},
   "source": [
    "#### Pivot Table\n",
    "\n",
    "\"Pivot tables\" are a powerful tool very common in the world of spreadsheet-first data analytics. In fact, when analysts are first making the move from excel to python or R pivot tables are the feature they miss the most (and they generally find the in-code approximations of these tools overly burdensome). Pandas, nicely, has an API that feels familiar to this flavor of analysis.\n",
    "\n",
    "\n",
    "\n",
    "\n",
    "\n",
    "flights_by_carrier = data.pivot_table(index='flight_date', columns='unique_carrier', values='flight_num', aggfunc='count')\n",
    "flights_by_carrier.head()"
   ]
  },
  {
   "cell_type": "code",
   "execution_count": 41,
   "metadata": {},
   "outputs": [
    {
     "data": {
      "text/html": [
       "<div>\n",
       "<table border=\"1\" class=\"dataframe\">\n",
       "  <thead>\n",
       "    <tr style=\"text-align: right;\">\n",
       "      <th>borough</th>\n",
       "      <th>BRONX</th>\n",
       "      <th>BROOKLYN</th>\n",
       "      <th>MANHATTAN</th>\n",
       "      <th>QUEENS</th>\n",
       "      <th>STATEN ISLAND</th>\n",
       "      <th>Unspecified</th>\n",
       "    </tr>\n",
       "    <tr>\n",
       "      <th>status</th>\n",
       "      <th></th>\n",
       "      <th></th>\n",
       "      <th></th>\n",
       "      <th></th>\n",
       "      <th></th>\n",
       "      <th></th>\n",
       "    </tr>\n",
       "  </thead>\n",
       "  <tbody>\n",
       "    <tr>\n",
       "      <th>Assigned</th>\n",
       "      <td>909.0</td>\n",
       "      <td>1720.0</td>\n",
       "      <td>1703.0</td>\n",
       "      <td>1478.0</td>\n",
       "      <td>245.0</td>\n",
       "      <td>134.0</td>\n",
       "    </tr>\n",
       "    <tr>\n",
       "      <th>Closed</th>\n",
       "      <td>7885.0</td>\n",
       "      <td>15967.0</td>\n",
       "      <td>12087.0</td>\n",
       "      <td>12313.0</td>\n",
       "      <td>2613.0</td>\n",
       "      <td>6300.0</td>\n",
       "    </tr>\n",
       "    <tr>\n",
       "      <th>Email Sent</th>\n",
       "      <td>NaN</td>\n",
       "      <td>NaN</td>\n",
       "      <td>NaN</td>\n",
       "      <td>NaN</td>\n",
       "      <td>NaN</td>\n",
       "      <td>129.0</td>\n",
       "    </tr>\n",
       "    <tr>\n",
       "      <th>Open</th>\n",
       "      <td>9925.0</td>\n",
       "      <td>14224.0</td>\n",
       "      <td>9920.0</td>\n",
       "      <td>7578.0</td>\n",
       "      <td>1819.0</td>\n",
       "      <td>506.0</td>\n",
       "    </tr>\n",
       "    <tr>\n",
       "      <th>Pending</th>\n",
       "      <td>903.0</td>\n",
       "      <td>847.0</td>\n",
       "      <td>477.0</td>\n",
       "      <td>783.0</td>\n",
       "      <td>120.0</td>\n",
       "      <td>35.0</td>\n",
       "    </tr>\n",
       "    <tr>\n",
       "      <th>Started</th>\n",
       "      <td>64.0</td>\n",
       "      <td>132.0</td>\n",
       "      <td>101.0</td>\n",
       "      <td>129.0</td>\n",
       "      <td>20.0</td>\n",
       "      <td>1.0</td>\n",
       "    </tr>\n",
       "    <tr>\n",
       "      <th>Unassigned</th>\n",
       "      <td>NaN</td>\n",
       "      <td>NaN</td>\n",
       "      <td>NaN</td>\n",
       "      <td>NaN</td>\n",
       "      <td>NaN</td>\n",
       "      <td>2.0</td>\n",
       "    </tr>\n",
       "  </tbody>\n",
       "</table>\n",
       "</div>"
      ],
      "text/plain": [
       "borough      BRONX  BROOKLYN  MANHATTAN   QUEENS  STATEN ISLAND  Unspecified\n",
       "status                                                                      \n",
       "Assigned     909.0    1720.0     1703.0   1478.0          245.0        134.0\n",
       "Closed      7885.0   15967.0    12087.0  12313.0         2613.0       6300.0\n",
       "Email Sent     NaN       NaN        NaN      NaN            NaN        129.0\n",
       "Open        9925.0   14224.0     9920.0   7578.0         1819.0        506.0\n",
       "Pending      903.0     847.0      477.0    783.0          120.0         35.0\n",
       "Started       64.0     132.0      101.0    129.0           20.0          1.0\n",
       "Unassigned     NaN       NaN        NaN      NaN            NaN          2.0"
      ]
     },
     "execution_count": 41,
     "metadata": {},
     "output_type": "execute_result"
    }
   ],
   "source": [
    "status_by_borough = cleaned.pivot_table(index=\"status\", columns=\"borough\", values=\"created_date\", aggfunc=\"count\")\n",
    "status_by_borough.head(30)"
   ]
  },
  {
   "cell_type": "markdown",
   "metadata": {},
   "source": [
    "Exercise: \n",
    "* plot a line chart with complaints by day by borough (time on the x axis, one line per borough)\n",
    "\n",
    "```python\n",
    "# complaints[['Unique Key', 'Borough']].groupby([complaints.index.date, 'Borough']).count().unstack().plot()\n",
    "```"
   ]
  }
 ],
 "metadata": {
  "kernelspec": {
   "display_name": "Python 3",
   "language": "python",
   "name": "python3"
  },
  "language_info": {
   "codemirror_mode": {
    "name": "ipython",
    "version": 3
   },
   "file_extension": ".py",
   "mimetype": "text/x-python",
   "name": "python",
   "nbconvert_exporter": "python",
   "pygments_lexer": "ipython3",
   "version": "3.6.0"
  }
 },
 "nbformat": 4,
 "nbformat_minor": 2
}
