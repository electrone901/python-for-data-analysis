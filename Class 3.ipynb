{
 "cells": [
  {
   "cell_type": "markdown",
   "metadata": {
    "collapsed": true
   },
   "source": [
    "# Python For Data Analysis\n",
    "## Class 3\n",
    "\n",
    "The objectives of this class are for y'all to have:\n",
    "\n",
    "1. Learned a few more useful `pandas` patterns\n",
    "2. Generated some plots with seaborn\n",
    "3. Done some more exploratory data analysis on your own\n",
    "4. Ran a linear regression (?)"
   ]
  },
  {
   "cell_type": "code",
   "execution_count": 1,
   "metadata": {
    "collapsed": true
   },
   "outputs": [],
   "source": [
    "import pandas as pd # use 'as' keyword to namespace a package\n",
    "import numpy as np\n",
    "complaints = pd.read_csv('../pandas-cookbook/data/311-service-requests.csv', low_memory=False)\n"
   ]
  },
  {
   "cell_type": "code",
   "execution_count": 2,
   "metadata": {
    "collapsed": true
   },
   "outputs": [],
   "source": [
    "useful_cols = ['Created Date', \n",
    "               'Closed Date',\n",
    "               'Due Date', \n",
    "               'Agency',\n",
    "               'Facility Type',\n",
    "               'Agency Name', \n",
    "               'Complaint Type', \n",
    "               'Borough', \n",
    "               'Status', \n",
    "               'Descriptor']\n",
    "cleaned = complaints[useful_cols]\n",
    "cleaned = cleaned.rename(columns=lambda x: x.lower().replace(' ','_'))"
   ]
  },
  {
   "cell_type": "code",
   "execution_count": 3,
   "metadata": {},
   "outputs": [
    {
     "data": {
      "text/html": [
       "<div>\n",
       "<table border=\"1\" class=\"dataframe\">\n",
       "  <thead>\n",
       "    <tr style=\"text-align: right;\">\n",
       "      <th></th>\n",
       "      <th>created_date</th>\n",
       "      <th>closed_date</th>\n",
       "      <th>due_date</th>\n",
       "      <th>agency</th>\n",
       "      <th>facility_type</th>\n",
       "      <th>agency_name</th>\n",
       "      <th>complaint_type</th>\n",
       "      <th>borough</th>\n",
       "      <th>status</th>\n",
       "      <th>descriptor</th>\n",
       "    </tr>\n",
       "  </thead>\n",
       "  <tbody>\n",
       "    <tr>\n",
       "      <th>0</th>\n",
       "      <td>10/31/2013 02:08:41 AM</td>\n",
       "      <td>NaN</td>\n",
       "      <td>10/31/2013 10:08:41 AM</td>\n",
       "      <td>NYPD</td>\n",
       "      <td>Precinct</td>\n",
       "      <td>New York City Police Department</td>\n",
       "      <td>Noise - Street/Sidewalk</td>\n",
       "      <td>QUEENS</td>\n",
       "      <td>Assigned</td>\n",
       "      <td>Loud Talking</td>\n",
       "    </tr>\n",
       "    <tr>\n",
       "      <th>1</th>\n",
       "      <td>10/31/2013 02:01:04 AM</td>\n",
       "      <td>NaN</td>\n",
       "      <td>10/31/2013 10:01:04 AM</td>\n",
       "      <td>NYPD</td>\n",
       "      <td>Precinct</td>\n",
       "      <td>New York City Police Department</td>\n",
       "      <td>Illegal Parking</td>\n",
       "      <td>QUEENS</td>\n",
       "      <td>Open</td>\n",
       "      <td>Commercial Overnight Parking</td>\n",
       "    </tr>\n",
       "    <tr>\n",
       "      <th>2</th>\n",
       "      <td>10/31/2013 02:00:24 AM</td>\n",
       "      <td>10/31/2013 02:40:32 AM</td>\n",
       "      <td>10/31/2013 10:00:24 AM</td>\n",
       "      <td>NYPD</td>\n",
       "      <td>Precinct</td>\n",
       "      <td>New York City Police Department</td>\n",
       "      <td>Noise - Commercial</td>\n",
       "      <td>MANHATTAN</td>\n",
       "      <td>Closed</td>\n",
       "      <td>Loud Music/Party</td>\n",
       "    </tr>\n",
       "    <tr>\n",
       "      <th>3</th>\n",
       "      <td>10/31/2013 01:56:23 AM</td>\n",
       "      <td>10/31/2013 02:21:48 AM</td>\n",
       "      <td>10/31/2013 09:56:23 AM</td>\n",
       "      <td>NYPD</td>\n",
       "      <td>Precinct</td>\n",
       "      <td>New York City Police Department</td>\n",
       "      <td>Noise - Vehicle</td>\n",
       "      <td>MANHATTAN</td>\n",
       "      <td>Closed</td>\n",
       "      <td>Car/Truck Horn</td>\n",
       "    </tr>\n",
       "    <tr>\n",
       "      <th>4</th>\n",
       "      <td>10/31/2013 01:53:44 AM</td>\n",
       "      <td>NaN</td>\n",
       "      <td>11/30/2013 01:53:44 AM</td>\n",
       "      <td>DOHMH</td>\n",
       "      <td>NaN</td>\n",
       "      <td>Department of Health and Mental Hygiene</td>\n",
       "      <td>Rodent</td>\n",
       "      <td>MANHATTAN</td>\n",
       "      <td>Pending</td>\n",
       "      <td>Condition Attracting Rodents</td>\n",
       "    </tr>\n",
       "  </tbody>\n",
       "</table>\n",
       "</div>"
      ],
      "text/plain": [
       "             created_date             closed_date                due_date  \\\n",
       "0  10/31/2013 02:08:41 AM                     NaN  10/31/2013 10:08:41 AM   \n",
       "1  10/31/2013 02:01:04 AM                     NaN  10/31/2013 10:01:04 AM   \n",
       "2  10/31/2013 02:00:24 AM  10/31/2013 02:40:32 AM  10/31/2013 10:00:24 AM   \n",
       "3  10/31/2013 01:56:23 AM  10/31/2013 02:21:48 AM  10/31/2013 09:56:23 AM   \n",
       "4  10/31/2013 01:53:44 AM                     NaN  11/30/2013 01:53:44 AM   \n",
       "\n",
       "  agency facility_type                              agency_name  \\\n",
       "0   NYPD      Precinct          New York City Police Department   \n",
       "1   NYPD      Precinct          New York City Police Department   \n",
       "2   NYPD      Precinct          New York City Police Department   \n",
       "3   NYPD      Precinct          New York City Police Department   \n",
       "4  DOHMH           NaN  Department of Health and Mental Hygiene   \n",
       "\n",
       "            complaint_type    borough    status                    descriptor  \n",
       "0  Noise - Street/Sidewalk     QUEENS  Assigned                  Loud Talking  \n",
       "1          Illegal Parking     QUEENS      Open  Commercial Overnight Parking  \n",
       "2       Noise - Commercial  MANHATTAN    Closed              Loud Music/Party  \n",
       "3          Noise - Vehicle  MANHATTAN    Closed                Car/Truck Horn  \n",
       "4                   Rodent  MANHATTAN   Pending  Condition Attracting Rodents  "
      ]
     },
     "execution_count": 3,
     "metadata": {},
     "output_type": "execute_result"
    }
   ],
   "source": [
    "cleaned.head()"
   ]
  },
  {
   "cell_type": "markdown",
   "metadata": {},
   "source": [
    "## Last Week's Exercise\n",
    "\n",
    "Write a function that takes a column name, a number n, and a dataframe as an argument, and returns a column with the top n categories and all other categories as \"other\""
   ]
  },
  {
   "cell_type": "code",
   "execution_count": 4,
   "metadata": {
    "collapsed": true
   },
   "outputs": [],
   "source": [
    "def top_n(col_name, top_n, df):\n",
    "    # Get the value counts of our column name from our DF\n",
    "    value_counts = df[col_name].value_counts()\n",
    "    if len(value_counts) <= top_n:\n",
    "        print(\"\"\"WARNING: There are fewer distinct categories in df[%s] than requested. \n",
    "              No $replacement performed\"\"\", col_name)\n",
    "        return df[col_name] # Do no replacement, return the column\n",
    "    keep_vals = list(value_counts.head(top_n).index) # Get the top_n rows from value_counts\n",
    "    keep_mask = df[col_name].isin(keep_vals) # Identify the \"keeper\" rows\n",
    "    new_x = df[col_name].copy() # Copy to prevent in-place editing\n",
    "    new_x[~keep_mask] = 'other' # Negate the mask to identify those we want to replace\n",
    "    replace_count = len(value_counts) - top_n\n",
    "    print(\"Replaced %s values\" % replace_count)\n",
    "    return(new_x)    "
   ]
  },
  {
   "cell_type": "markdown",
   "metadata": {},
   "source": [
    "### Time to resolution"
   ]
  },
  {
   "cell_type": "code",
   "execution_count": 5,
   "metadata": {},
   "outputs": [
    {
     "data": {
      "text/html": [
       "<div>\n",
       "<table border=\"1\" class=\"dataframe\">\n",
       "  <thead>\n",
       "    <tr style=\"text-align: right;\">\n",
       "      <th></th>\n",
       "      <th>created_date</th>\n",
       "      <th>closed_date</th>\n",
       "      <th>due_date</th>\n",
       "      <th>agency</th>\n",
       "      <th>facility_type</th>\n",
       "      <th>agency_name</th>\n",
       "      <th>complaint_type</th>\n",
       "      <th>borough</th>\n",
       "      <th>status</th>\n",
       "      <th>descriptor</th>\n",
       "    </tr>\n",
       "  </thead>\n",
       "  <tbody>\n",
       "    <tr>\n",
       "      <th>0</th>\n",
       "      <td>2013-10-31 02:08:41</td>\n",
       "      <td>NaT</td>\n",
       "      <td>10/31/2013 10:08:41 AM</td>\n",
       "      <td>NYPD</td>\n",
       "      <td>Precinct</td>\n",
       "      <td>New York City Police Department</td>\n",
       "      <td>Noise - Street/Sidewalk</td>\n",
       "      <td>QUEENS</td>\n",
       "      <td>Assigned</td>\n",
       "      <td>Loud Talking</td>\n",
       "    </tr>\n",
       "    <tr>\n",
       "      <th>1</th>\n",
       "      <td>2013-10-31 02:01:04</td>\n",
       "      <td>NaT</td>\n",
       "      <td>10/31/2013 10:01:04 AM</td>\n",
       "      <td>NYPD</td>\n",
       "      <td>Precinct</td>\n",
       "      <td>New York City Police Department</td>\n",
       "      <td>Illegal Parking</td>\n",
       "      <td>QUEENS</td>\n",
       "      <td>Open</td>\n",
       "      <td>Commercial Overnight Parking</td>\n",
       "    </tr>\n",
       "    <tr>\n",
       "      <th>2</th>\n",
       "      <td>2013-10-31 02:00:24</td>\n",
       "      <td>2013-10-31 02:40:32</td>\n",
       "      <td>10/31/2013 10:00:24 AM</td>\n",
       "      <td>NYPD</td>\n",
       "      <td>Precinct</td>\n",
       "      <td>New York City Police Department</td>\n",
       "      <td>Noise - Commercial</td>\n",
       "      <td>MANHATTAN</td>\n",
       "      <td>Closed</td>\n",
       "      <td>Loud Music/Party</td>\n",
       "    </tr>\n",
       "    <tr>\n",
       "      <th>3</th>\n",
       "      <td>2013-10-31 01:56:23</td>\n",
       "      <td>2013-10-31 02:21:48</td>\n",
       "      <td>10/31/2013 09:56:23 AM</td>\n",
       "      <td>NYPD</td>\n",
       "      <td>Precinct</td>\n",
       "      <td>New York City Police Department</td>\n",
       "      <td>Noise - Vehicle</td>\n",
       "      <td>MANHATTAN</td>\n",
       "      <td>Closed</td>\n",
       "      <td>Car/Truck Horn</td>\n",
       "    </tr>\n",
       "    <tr>\n",
       "      <th>4</th>\n",
       "      <td>2013-10-31 01:53:44</td>\n",
       "      <td>NaT</td>\n",
       "      <td>11/30/2013 01:53:44 AM</td>\n",
       "      <td>DOHMH</td>\n",
       "      <td>NaN</td>\n",
       "      <td>Department of Health and Mental Hygiene</td>\n",
       "      <td>Rodent</td>\n",
       "      <td>MANHATTAN</td>\n",
       "      <td>Pending</td>\n",
       "      <td>Condition Attracting Rodents</td>\n",
       "    </tr>\n",
       "  </tbody>\n",
       "</table>\n",
       "</div>"
      ],
      "text/plain": [
       "         created_date         closed_date                due_date agency  \\\n",
       "0 2013-10-31 02:08:41                 NaT  10/31/2013 10:08:41 AM   NYPD   \n",
       "1 2013-10-31 02:01:04                 NaT  10/31/2013 10:01:04 AM   NYPD   \n",
       "2 2013-10-31 02:00:24 2013-10-31 02:40:32  10/31/2013 10:00:24 AM   NYPD   \n",
       "3 2013-10-31 01:56:23 2013-10-31 02:21:48  10/31/2013 09:56:23 AM   NYPD   \n",
       "4 2013-10-31 01:53:44                 NaT  11/30/2013 01:53:44 AM  DOHMH   \n",
       "\n",
       "  facility_type                              agency_name  \\\n",
       "0      Precinct          New York City Police Department   \n",
       "1      Precinct          New York City Police Department   \n",
       "2      Precinct          New York City Police Department   \n",
       "3      Precinct          New York City Police Department   \n",
       "4           NaN  Department of Health and Mental Hygiene   \n",
       "\n",
       "            complaint_type    borough    status                    descriptor  \n",
       "0  Noise - Street/Sidewalk     QUEENS  Assigned                  Loud Talking  \n",
       "1          Illegal Parking     QUEENS      Open  Commercial Overnight Parking  \n",
       "2       Noise - Commercial  MANHATTAN    Closed              Loud Music/Party  \n",
       "3          Noise - Vehicle  MANHATTAN    Closed                Car/Truck Horn  \n",
       "4                   Rodent  MANHATTAN   Pending  Condition Attracting Rodents  "
      ]
     },
     "execution_count": 5,
     "metadata": {},
     "output_type": "execute_result"
    }
   ],
   "source": [
    "### Creating a column with time-to-close\n",
    "# pd.options.mode.chained_assignment = None\n",
    "cleaned.dtypes\n",
    "cleaned['created_date'] = pd.to_datetime(cleaned['created_date'])\n",
    "cleaned['closed_date'] = pd.to_datetime(cleaned['closed_date'])\n",
    "cleaned.head()"
   ]
  },
  {
   "cell_type": "code",
   "execution_count": 6,
   "metadata": {},
   "outputs": [
    {
     "data": {
      "text/plain": [
       "created_date      datetime64[ns]\n",
       "closed_date       datetime64[ns]\n",
       "due_date                  object\n",
       "agency                    object\n",
       "facility_type             object\n",
       "agency_name               object\n",
       "complaint_type            object\n",
       "borough                   object\n",
       "status                    object\n",
       "descriptor                object\n",
       "dtype: object"
      ]
     },
     "execution_count": 6,
     "metadata": {},
     "output_type": "execute_result"
    }
   ],
   "source": [
    "cleaned.dtypes"
   ]
  },
  {
   "cell_type": "code",
   "execution_count": 7,
   "metadata": {},
   "outputs": [
    {
     "data": {
      "text/html": [
       "<div>\n",
       "<table border=\"1\" class=\"dataframe\">\n",
       "  <thead>\n",
       "    <tr style=\"text-align: right;\">\n",
       "      <th></th>\n",
       "      <th>created_date</th>\n",
       "      <th>closed_date</th>\n",
       "      <th>due_date</th>\n",
       "      <th>agency</th>\n",
       "      <th>facility_type</th>\n",
       "      <th>agency_name</th>\n",
       "      <th>complaint_type</th>\n",
       "      <th>borough</th>\n",
       "      <th>status</th>\n",
       "      <th>descriptor</th>\n",
       "      <th>time_to_resolution</th>\n",
       "    </tr>\n",
       "  </thead>\n",
       "  <tbody>\n",
       "    <tr>\n",
       "      <th>0</th>\n",
       "      <td>2013-10-31 02:08:41</td>\n",
       "      <td>NaT</td>\n",
       "      <td>10/31/2013 10:08:41 AM</td>\n",
       "      <td>NYPD</td>\n",
       "      <td>Precinct</td>\n",
       "      <td>New York City Police Department</td>\n",
       "      <td>Noise - Street/Sidewalk</td>\n",
       "      <td>QUEENS</td>\n",
       "      <td>Assigned</td>\n",
       "      <td>Loud Talking</td>\n",
       "      <td>NaN</td>\n",
       "    </tr>\n",
       "    <tr>\n",
       "      <th>1</th>\n",
       "      <td>2013-10-31 02:01:04</td>\n",
       "      <td>NaT</td>\n",
       "      <td>10/31/2013 10:01:04 AM</td>\n",
       "      <td>NYPD</td>\n",
       "      <td>Precinct</td>\n",
       "      <td>New York City Police Department</td>\n",
       "      <td>Illegal Parking</td>\n",
       "      <td>QUEENS</td>\n",
       "      <td>Open</td>\n",
       "      <td>Commercial Overnight Parking</td>\n",
       "      <td>NaN</td>\n",
       "    </tr>\n",
       "    <tr>\n",
       "      <th>2</th>\n",
       "      <td>2013-10-31 02:00:24</td>\n",
       "      <td>2013-10-31 02:40:32</td>\n",
       "      <td>10/31/2013 10:00:24 AM</td>\n",
       "      <td>NYPD</td>\n",
       "      <td>Precinct</td>\n",
       "      <td>New York City Police Department</td>\n",
       "      <td>Noise - Commercial</td>\n",
       "      <td>MANHATTAN</td>\n",
       "      <td>Closed</td>\n",
       "      <td>Loud Music/Party</td>\n",
       "      <td>40.133333</td>\n",
       "    </tr>\n",
       "    <tr>\n",
       "      <th>3</th>\n",
       "      <td>2013-10-31 01:56:23</td>\n",
       "      <td>2013-10-31 02:21:48</td>\n",
       "      <td>10/31/2013 09:56:23 AM</td>\n",
       "      <td>NYPD</td>\n",
       "      <td>Precinct</td>\n",
       "      <td>New York City Police Department</td>\n",
       "      <td>Noise - Vehicle</td>\n",
       "      <td>MANHATTAN</td>\n",
       "      <td>Closed</td>\n",
       "      <td>Car/Truck Horn</td>\n",
       "      <td>25.416667</td>\n",
       "    </tr>\n",
       "    <tr>\n",
       "      <th>4</th>\n",
       "      <td>2013-10-31 01:53:44</td>\n",
       "      <td>NaT</td>\n",
       "      <td>11/30/2013 01:53:44 AM</td>\n",
       "      <td>DOHMH</td>\n",
       "      <td>NaN</td>\n",
       "      <td>Department of Health and Mental Hygiene</td>\n",
       "      <td>Rodent</td>\n",
       "      <td>MANHATTAN</td>\n",
       "      <td>Pending</td>\n",
       "      <td>Condition Attracting Rodents</td>\n",
       "      <td>NaN</td>\n",
       "    </tr>\n",
       "    <tr>\n",
       "      <th>5</th>\n",
       "      <td>2013-10-31 01:46:52</td>\n",
       "      <td>NaT</td>\n",
       "      <td>10/31/2013 09:46:52 AM</td>\n",
       "      <td>NYPD</td>\n",
       "      <td>Precinct</td>\n",
       "      <td>New York City Police Department</td>\n",
       "      <td>Noise - Commercial</td>\n",
       "      <td>QUEENS</td>\n",
       "      <td>Open</td>\n",
       "      <td>Banging/Pounding</td>\n",
       "      <td>NaN</td>\n",
       "    </tr>\n",
       "    <tr>\n",
       "      <th>6</th>\n",
       "      <td>2013-10-31 01:46:40</td>\n",
       "      <td>NaT</td>\n",
       "      <td>10/31/2013 09:46:40 AM</td>\n",
       "      <td>NYPD</td>\n",
       "      <td>Precinct</td>\n",
       "      <td>New York City Police Department</td>\n",
       "      <td>Blocked Driveway</td>\n",
       "      <td>QUEENS</td>\n",
       "      <td>Assigned</td>\n",
       "      <td>No Access</td>\n",
       "      <td>NaN</td>\n",
       "    </tr>\n",
       "    <tr>\n",
       "      <th>7</th>\n",
       "      <td>2013-10-31 01:44:19</td>\n",
       "      <td>2013-10-31 01:58:49</td>\n",
       "      <td>10/31/2013 09:44:19 AM</td>\n",
       "      <td>NYPD</td>\n",
       "      <td>Precinct</td>\n",
       "      <td>New York City Police Department</td>\n",
       "      <td>Noise - Commercial</td>\n",
       "      <td>QUEENS</td>\n",
       "      <td>Closed</td>\n",
       "      <td>Loud Music/Party</td>\n",
       "      <td>14.500000</td>\n",
       "    </tr>\n",
       "    <tr>\n",
       "      <th>8</th>\n",
       "      <td>2013-10-31 01:44:14</td>\n",
       "      <td>2013-10-31 02:28:04</td>\n",
       "      <td>10/31/2013 09:44:14 AM</td>\n",
       "      <td>NYPD</td>\n",
       "      <td>Precinct</td>\n",
       "      <td>New York City Police Department</td>\n",
       "      <td>Noise - Commercial</td>\n",
       "      <td>MANHATTAN</td>\n",
       "      <td>Closed</td>\n",
       "      <td>Loud Talking</td>\n",
       "      <td>43.833333</td>\n",
       "    </tr>\n",
       "    <tr>\n",
       "      <th>9</th>\n",
       "      <td>2013-10-31 01:34:41</td>\n",
       "      <td>2013-10-31 02:23:51</td>\n",
       "      <td>10/31/2013 09:34:41 AM</td>\n",
       "      <td>NYPD</td>\n",
       "      <td>Precinct</td>\n",
       "      <td>New York City Police Department</td>\n",
       "      <td>Noise - Commercial</td>\n",
       "      <td>BROOKLYN</td>\n",
       "      <td>Closed</td>\n",
       "      <td>Loud Music/Party</td>\n",
       "      <td>49.166667</td>\n",
       "    </tr>\n",
       "    <tr>\n",
       "      <th>10</th>\n",
       "      <td>2013-10-31 01:25:12</td>\n",
       "      <td>NaT</td>\n",
       "      <td>10/31/2013 09:25:12 AM</td>\n",
       "      <td>NYPD</td>\n",
       "      <td>Precinct</td>\n",
       "      <td>New York City Police Department</td>\n",
       "      <td>Noise - House of Worship</td>\n",
       "      <td>BROOKLYN</td>\n",
       "      <td>Open</td>\n",
       "      <td>Loud Music/Party</td>\n",
       "      <td>NaN</td>\n",
       "    </tr>\n",
       "    <tr>\n",
       "      <th>11</th>\n",
       "      <td>2013-10-31 01:24:14</td>\n",
       "      <td>2013-10-31 01:54:39</td>\n",
       "      <td>10/31/2013 09:24:14 AM</td>\n",
       "      <td>NYPD</td>\n",
       "      <td>Precinct</td>\n",
       "      <td>New York City Police Department</td>\n",
       "      <td>Noise - Commercial</td>\n",
       "      <td>MANHATTAN</td>\n",
       "      <td>Closed</td>\n",
       "      <td>Loud Music/Party</td>\n",
       "      <td>30.416667</td>\n",
       "    </tr>\n",
       "    <tr>\n",
       "      <th>12</th>\n",
       "      <td>2013-10-31 01:20:57</td>\n",
       "      <td>2013-10-31 02:12:31</td>\n",
       "      <td>10/31/2013 09:20:57 AM</td>\n",
       "      <td>NYPD</td>\n",
       "      <td>Precinct</td>\n",
       "      <td>New York City Police Department</td>\n",
       "      <td>Illegal Parking</td>\n",
       "      <td>MANHATTAN</td>\n",
       "      <td>Closed</td>\n",
       "      <td>Double Parked Blocking Vehicle</td>\n",
       "      <td>51.566667</td>\n",
       "    </tr>\n",
       "    <tr>\n",
       "      <th>13</th>\n",
       "      <td>2013-10-31 01:20:13</td>\n",
       "      <td>NaT</td>\n",
       "      <td>10/31/2013 09:20:13 AM</td>\n",
       "      <td>NYPD</td>\n",
       "      <td>Precinct</td>\n",
       "      <td>New York City Police Department</td>\n",
       "      <td>Noise - Vehicle</td>\n",
       "      <td>BRONX</td>\n",
       "      <td>Open</td>\n",
       "      <td>Engine Idling</td>\n",
       "      <td>NaN</td>\n",
       "    </tr>\n",
       "    <tr>\n",
       "      <th>14</th>\n",
       "      <td>2013-10-31 01:19:54</td>\n",
       "      <td>NaT</td>\n",
       "      <td>11/30/2013 01:19:54 AM</td>\n",
       "      <td>DOHMH</td>\n",
       "      <td>NaN</td>\n",
       "      <td>Department of Health and Mental Hygiene</td>\n",
       "      <td>Rodent</td>\n",
       "      <td>BROOKLYN</td>\n",
       "      <td>Pending</td>\n",
       "      <td>Rat Sighting</td>\n",
       "      <td>NaN</td>\n",
       "    </tr>\n",
       "    <tr>\n",
       "      <th>15</th>\n",
       "      <td>2013-10-31 01:14:02</td>\n",
       "      <td>2013-10-31 01:30:34</td>\n",
       "      <td>10/31/2013 09:14:02 AM</td>\n",
       "      <td>NYPD</td>\n",
       "      <td>Precinct</td>\n",
       "      <td>New York City Police Department</td>\n",
       "      <td>Noise - House of Worship</td>\n",
       "      <td>MANHATTAN</td>\n",
       "      <td>Closed</td>\n",
       "      <td>Loud Music/Party</td>\n",
       "      <td>16.533333</td>\n",
       "    </tr>\n",
       "    <tr>\n",
       "      <th>16</th>\n",
       "      <td>2013-10-31 00:54:03</td>\n",
       "      <td>2013-10-31 02:16:39</td>\n",
       "      <td>10/31/2013 08:54:03 AM</td>\n",
       "      <td>NYPD</td>\n",
       "      <td>Precinct</td>\n",
       "      <td>New York City Police Department</td>\n",
       "      <td>Noise - Street/Sidewalk</td>\n",
       "      <td>STATEN ISLAND</td>\n",
       "      <td>Closed</td>\n",
       "      <td>Loud Music/Party</td>\n",
       "      <td>82.600000</td>\n",
       "    </tr>\n",
       "    <tr>\n",
       "      <th>17</th>\n",
       "      <td>2013-10-31 00:52:46</td>\n",
       "      <td>NaT</td>\n",
       "      <td>10/31/2013 08:52:46 AM</td>\n",
       "      <td>NYPD</td>\n",
       "      <td>Precinct</td>\n",
       "      <td>New York City Police Department</td>\n",
       "      <td>Illegal Parking</td>\n",
       "      <td>BROOKLYN</td>\n",
       "      <td>Open</td>\n",
       "      <td>Posted Parking Sign Violation</td>\n",
       "      <td>NaN</td>\n",
       "    </tr>\n",
       "    <tr>\n",
       "      <th>18</th>\n",
       "      <td>2013-10-31 00:51:00</td>\n",
       "      <td>NaT</td>\n",
       "      <td>NaN</td>\n",
       "      <td>DOT</td>\n",
       "      <td>NaN</td>\n",
       "      <td>Department of Transportation</td>\n",
       "      <td>Street Light Condition</td>\n",
       "      <td>BROOKLYN</td>\n",
       "      <td>Open</td>\n",
       "      <td>Street Light Out</td>\n",
       "      <td>NaN</td>\n",
       "    </tr>\n",
       "    <tr>\n",
       "      <th>19</th>\n",
       "      <td>2013-10-31 00:46:27</td>\n",
       "      <td>NaT</td>\n",
       "      <td>10/31/2013 08:46:27 AM</td>\n",
       "      <td>NYPD</td>\n",
       "      <td>Precinct</td>\n",
       "      <td>New York City Police Department</td>\n",
       "      <td>Noise - Commercial</td>\n",
       "      <td>MANHATTAN</td>\n",
       "      <td>Assigned</td>\n",
       "      <td>Loud Music/Party</td>\n",
       "      <td>NaN</td>\n",
       "    </tr>\n",
       "  </tbody>\n",
       "</table>\n",
       "</div>"
      ],
      "text/plain": [
       "          created_date         closed_date                due_date agency  \\\n",
       "0  2013-10-31 02:08:41                 NaT  10/31/2013 10:08:41 AM   NYPD   \n",
       "1  2013-10-31 02:01:04                 NaT  10/31/2013 10:01:04 AM   NYPD   \n",
       "2  2013-10-31 02:00:24 2013-10-31 02:40:32  10/31/2013 10:00:24 AM   NYPD   \n",
       "3  2013-10-31 01:56:23 2013-10-31 02:21:48  10/31/2013 09:56:23 AM   NYPD   \n",
       "4  2013-10-31 01:53:44                 NaT  11/30/2013 01:53:44 AM  DOHMH   \n",
       "5  2013-10-31 01:46:52                 NaT  10/31/2013 09:46:52 AM   NYPD   \n",
       "6  2013-10-31 01:46:40                 NaT  10/31/2013 09:46:40 AM   NYPD   \n",
       "7  2013-10-31 01:44:19 2013-10-31 01:58:49  10/31/2013 09:44:19 AM   NYPD   \n",
       "8  2013-10-31 01:44:14 2013-10-31 02:28:04  10/31/2013 09:44:14 AM   NYPD   \n",
       "9  2013-10-31 01:34:41 2013-10-31 02:23:51  10/31/2013 09:34:41 AM   NYPD   \n",
       "10 2013-10-31 01:25:12                 NaT  10/31/2013 09:25:12 AM   NYPD   \n",
       "11 2013-10-31 01:24:14 2013-10-31 01:54:39  10/31/2013 09:24:14 AM   NYPD   \n",
       "12 2013-10-31 01:20:57 2013-10-31 02:12:31  10/31/2013 09:20:57 AM   NYPD   \n",
       "13 2013-10-31 01:20:13                 NaT  10/31/2013 09:20:13 AM   NYPD   \n",
       "14 2013-10-31 01:19:54                 NaT  11/30/2013 01:19:54 AM  DOHMH   \n",
       "15 2013-10-31 01:14:02 2013-10-31 01:30:34  10/31/2013 09:14:02 AM   NYPD   \n",
       "16 2013-10-31 00:54:03 2013-10-31 02:16:39  10/31/2013 08:54:03 AM   NYPD   \n",
       "17 2013-10-31 00:52:46                 NaT  10/31/2013 08:52:46 AM   NYPD   \n",
       "18 2013-10-31 00:51:00                 NaT                     NaN    DOT   \n",
       "19 2013-10-31 00:46:27                 NaT  10/31/2013 08:46:27 AM   NYPD   \n",
       "\n",
       "   facility_type                              agency_name  \\\n",
       "0       Precinct          New York City Police Department   \n",
       "1       Precinct          New York City Police Department   \n",
       "2       Precinct          New York City Police Department   \n",
       "3       Precinct          New York City Police Department   \n",
       "4            NaN  Department of Health and Mental Hygiene   \n",
       "5       Precinct          New York City Police Department   \n",
       "6       Precinct          New York City Police Department   \n",
       "7       Precinct          New York City Police Department   \n",
       "8       Precinct          New York City Police Department   \n",
       "9       Precinct          New York City Police Department   \n",
       "10      Precinct          New York City Police Department   \n",
       "11      Precinct          New York City Police Department   \n",
       "12      Precinct          New York City Police Department   \n",
       "13      Precinct          New York City Police Department   \n",
       "14           NaN  Department of Health and Mental Hygiene   \n",
       "15      Precinct          New York City Police Department   \n",
       "16      Precinct          New York City Police Department   \n",
       "17      Precinct          New York City Police Department   \n",
       "18           NaN             Department of Transportation   \n",
       "19      Precinct          New York City Police Department   \n",
       "\n",
       "              complaint_type        borough    status  \\\n",
       "0    Noise - Street/Sidewalk         QUEENS  Assigned   \n",
       "1            Illegal Parking         QUEENS      Open   \n",
       "2         Noise - Commercial      MANHATTAN    Closed   \n",
       "3            Noise - Vehicle      MANHATTAN    Closed   \n",
       "4                     Rodent      MANHATTAN   Pending   \n",
       "5         Noise - Commercial         QUEENS      Open   \n",
       "6           Blocked Driveway         QUEENS  Assigned   \n",
       "7         Noise - Commercial         QUEENS    Closed   \n",
       "8         Noise - Commercial      MANHATTAN    Closed   \n",
       "9         Noise - Commercial       BROOKLYN    Closed   \n",
       "10  Noise - House of Worship       BROOKLYN      Open   \n",
       "11        Noise - Commercial      MANHATTAN    Closed   \n",
       "12           Illegal Parking      MANHATTAN    Closed   \n",
       "13           Noise - Vehicle          BRONX      Open   \n",
       "14                    Rodent       BROOKLYN   Pending   \n",
       "15  Noise - House of Worship      MANHATTAN    Closed   \n",
       "16   Noise - Street/Sidewalk  STATEN ISLAND    Closed   \n",
       "17           Illegal Parking       BROOKLYN      Open   \n",
       "18    Street Light Condition       BROOKLYN      Open   \n",
       "19        Noise - Commercial      MANHATTAN  Assigned   \n",
       "\n",
       "                        descriptor  time_to_resolution  \n",
       "0                     Loud Talking                 NaN  \n",
       "1     Commercial Overnight Parking                 NaN  \n",
       "2                 Loud Music/Party           40.133333  \n",
       "3                   Car/Truck Horn           25.416667  \n",
       "4     Condition Attracting Rodents                 NaN  \n",
       "5                 Banging/Pounding                 NaN  \n",
       "6                        No Access                 NaN  \n",
       "7                 Loud Music/Party           14.500000  \n",
       "8                     Loud Talking           43.833333  \n",
       "9                 Loud Music/Party           49.166667  \n",
       "10                Loud Music/Party                 NaN  \n",
       "11                Loud Music/Party           30.416667  \n",
       "12  Double Parked Blocking Vehicle           51.566667  \n",
       "13                   Engine Idling                 NaN  \n",
       "14                    Rat Sighting                 NaN  \n",
       "15                Loud Music/Party           16.533333  \n",
       "16                Loud Music/Party           82.600000  \n",
       "17   Posted Parking Sign Violation                 NaN  \n",
       "18                Street Light Out                 NaN  \n",
       "19                Loud Music/Party                 NaN  "
      ]
     },
     "execution_count": 7,
     "metadata": {},
     "output_type": "execute_result"
    }
   ],
   "source": [
    "cleaned['time_to_resolution'] = (cleaned['closed_date'] - cleaned['created_date']) / np.timedelta64(1, 'm')\n",
    "cleaned.head(20)"
   ]
  },
  {
   "cell_type": "markdown",
   "metadata": {},
   "source": [
    "### Basic Aggregations"
   ]
  },
  {
   "cell_type": "code",
   "execution_count": 8,
   "metadata": {
    "collapsed": true
   },
   "outputs": [],
   "source": [
    "# group our data by complaint type\n",
    "by_complaint = cleaned.groupby('complaint_type')"
   ]
  },
  {
   "cell_type": "code",
   "execution_count": 9,
   "metadata": {},
   "outputs": [
    {
     "data": {
      "text/plain": [
       "complaint_type\n",
       "APPLIANCE                                      3730.909091\n",
       "Adopt-A-Basket                                 1446.000000\n",
       "Agency Issues                                          NaN\n",
       "Air Quality                                    1516.666667\n",
       "Animal Abuse                                    223.147866\n",
       "Animal Facility - No Permit                            NaN\n",
       "Animal in a Park                               3260.302000\n",
       "Asbestos                                       1542.030556\n",
       "BEST/Site Safety                                346.853667\n",
       "Beach/Pool/Sauna Complaint                    28063.312500\n",
       "Benefit Card Replacement                          0.602283\n",
       "Bike Rack Condition                            8601.200000\n",
       "Bike/Roller/Skate Chronic                       126.328646\n",
       "Blocked Driveway                                179.920552\n",
       "Boilers                                                NaN\n",
       "Bridge Condition                               1376.686842\n",
       "Broken Muni Meter                              6590.684245\n",
       "Building/Use                                   1155.438973\n",
       "Bus Stop Shelter Placement                     8935.972222\n",
       "CONSTRUCTION                                   4920.000000\n",
       "City Vehicle Placard Complaint                    5.667188\n",
       "Collection Truck Noise                         2126.200000\n",
       "Complaint                                              NaN\n",
       "Compliment                                             NaN\n",
       "Construction                                   1255.536494\n",
       "Consumer Complaint                            12718.975639\n",
       "Cranes and Derricks                             622.330000\n",
       "Curb Condition                                24755.325000\n",
       "DCA / DOH New License Application Request      6196.768779\n",
       "DCA Literature Request                         6837.160000\n",
       "                                                 ...      \n",
       "Special Projects Inspection Team (SPIT)         849.067619\n",
       "Stalled Sites                                          NaN\n",
       "Standing Water                                         NaN\n",
       "Street Condition                               4862.629486\n",
       "Street Light Condition                        -1133.579997\n",
       "Street Sign - Damaged                          5540.759079\n",
       "Street Sign - Dangling                        10144.949390\n",
       "Street Sign - Missing                          9508.136275\n",
       "Sweeping/Missed-Inadequate                     1701.523077\n",
       "Tattooing                                              NaN\n",
       "Taxi Complaint                              -451446.358398\n",
       "Taxi Compliment                                        NaN\n",
       "Traffic                                         149.782242\n",
       "Traffic Signal Condition                        429.373221\n",
       "Trans Fat                                              NaN\n",
       "Transportation Provider Complaint              4687.683333\n",
       "Tunnel Condition                                866.333333\n",
       "Unleashed Dog                                          NaN\n",
       "Unsanitary Animal Facility                             NaN\n",
       "Unsanitary Animal Pvt Property               -13892.012500\n",
       "Unsanitary Pigeon Condition                    -864.000000\n",
       "Urinating in Public                             182.236111\n",
       "Vacant Lot                                     3079.368421\n",
       "Vending                                         175.072999\n",
       "Violation of Park Rules                        1278.163502\n",
       "Water Conservation                             1376.391892\n",
       "Water Quality                                  2058.628571\n",
       "Water System                                    611.043680\n",
       "Window Guard                                           NaN\n",
       "X-Ray Machine/Equipment                       29147.483333\n",
       "Name: time_to_resolution, dtype: float64"
      ]
     },
     "execution_count": 9,
     "metadata": {},
     "output_type": "execute_result"
    }
   ],
   "source": [
    "# average response time\n",
    "by_complaint['time_to_resolution'].mean()"
   ]
  },
  {
   "cell_type": "code",
   "execution_count": 10,
   "metadata": {
    "collapsed": true
   },
   "outputs": [],
   "source": [
    "###cleaned.loc[cleaned['time_to_resolution']<0,:].head()"
   ]
  },
  {
   "cell_type": "markdown",
   "metadata": {},
   "source": [
    "Exercise:\n",
    "  * What's going on with negative time-to-resolution?\n",
    "  * Determine which types of complaints are most often late (closed_date > due_date)\n",
    "      * Which types of complaints have the highest *percentage* of late calls?\n",
    "  * From which boroughs?\n"
   ]
  },
  {
   "cell_type": "markdown",
   "metadata": {},
   "source": [
    "### More advanced Data Manipulations with Pandas"
   ]
  },
  {
   "cell_type": "markdown",
   "metadata": {
    "collapsed": true
   },
   "source": [
    "In pandas, the split-apply-combine pattern is one of the most powerful but least understood features of the tool. In fact, I don't even understand it very well, but we'll struggle through it together.\n",
    "\n",
    "We'll cover a few operations *in brief* with specific emphasis on\n",
    "* Indexes in pandas\n",
    "* groupby objects\n",
    "* unstack\n",
    "* pivot_table\n"
   ]
  },
  {
   "cell_type": "markdown",
   "metadata": {},
   "source": [
    "#### Indexes in pandas\n",
    "Indexes are convenient ways to keep track of the *grain* (i.e., what defines a \"row\") in a dataframe. Dataframes have the ability to have multiple indexes which allow for slicing-and-dicing in very sophisticated ways. Unfortunately this can also means there's a lot of complexity which can be overwhelming for people who are new to the framework.\n",
    "\n",
    "The thing to keep in mind is that indexes are **not** columns just like any other. They must be accessed (and manged) differently."
   ]
  },
  {
   "cell_type": "markdown",
   "metadata": {},
   "source": [
    "#### Groupby\n",
    "\n",
    "As we saw above, we can use `groupby()` to summarize our data. The object returned by `groupby()` is not a dataframe -- in fact, it's more like 'instructions for grouping' than actual grouped data.\n",
    "\n",
    "```python\n",
    "grpd = cleaned.groupby('Status')\n",
    "# <pandas.core.groupby.DataFrameGroupBy object at 0x113aeada0>\n",
    "```\n",
    "\n",
    "Only when we apply some sort of function to perform an aggregation do we actually get results back\n",
    "\n",
    "```python\n",
    "grpd['Status'].count()\n",
    "\n",
    "Status\n",
    "Assigned       6189\n",
    "Closed        57165\n",
    "Email Sent      129\n",
    "Open          43972\n",
    "Pending        3165\n",
    "Started         447\n",
    "Unassigned        2\n",
    "Name: Status, dtype: int64\n",
    "```\n",
    "\n",
    "When we group-by data, the column we're grouping by becomes the index of the object we're returning (rather than a column of a table. Because we're now working explicitly with indexes (and sometimes multiple indexes!) it'll be helpful to look at some of the index-specific methods available to us.\n"
   ]
  },
  {
   "cell_type": "markdown",
   "metadata": {},
   "source": [
    "#### Unstack\n",
    "\n",
    "If we group by multiple columns, we'll get data back with multiple indexes. We can \"unstack\" these indexes to get more tabular data"
   ]
  },
  {
   "cell_type": "code",
   "execution_count": 11,
   "metadata": {},
   "outputs": [
    {
     "name": "stdout",
     "output_type": "stream",
     "text": [
      "borough    status  \n",
      "BRONX      Assigned      909\n",
      "           Closed       7885\n",
      "           Open         9925\n",
      "           Pending       903\n",
      "           Started        64\n",
      "BROOKLYN   Assigned     1720\n",
      "           Closed      15967\n",
      "           Open        14224\n",
      "           Pending       847\n",
      "           Started       132\n",
      "MANHATTAN  Assigned     1703\n",
      "           Closed      12087\n",
      "           Open         9920\n",
      "           Pending       477\n",
      "           Started       101\n",
      "QUEENS     Assigned     1478\n",
      "           Closed      12313\n",
      "           Open         7578\n",
      "           Pending       783\n",
      "           Started       129\n",
      "Name: status, dtype: int64\n",
      "----------------------------\n",
      "Now Unstack!\n",
      "----------------------------\n",
      "status         Assigned   Closed  Email Sent     Open  Pending  Started  \\\n",
      "borough                                                                   \n",
      "BRONX             909.0   7885.0         NaN   9925.0    903.0     64.0   \n",
      "BROOKLYN         1720.0  15967.0         NaN  14224.0    847.0    132.0   \n",
      "MANHATTAN        1703.0  12087.0         NaN   9920.0    477.0    101.0   \n",
      "QUEENS           1478.0  12313.0         NaN   7578.0    783.0    129.0   \n",
      "STATEN ISLAND     245.0   2613.0         NaN   1819.0    120.0     20.0   \n",
      "Unspecified       134.0   6300.0       129.0    506.0     35.0      1.0   \n",
      "\n",
      "status         Unassigned  \n",
      "borough                    \n",
      "BRONX                 NaN  \n",
      "BROOKLYN              NaN  \n",
      "MANHATTAN             NaN  \n",
      "QUEENS                NaN  \n",
      "STATEN ISLAND         NaN  \n",
      "Unspecified           2.0  \n"
     ]
    }
   ],
   "source": [
    "b_s = cleaned.groupby(['borough','status'])['status'].count()\n",
    "print(b_s.head(20))\n",
    "print(\"----------------------------\")\n",
    "print(\"Now Unstack!\")\n",
    "print(\"----------------------------\")\n",
    "print(b_s.unstack())"
   ]
  },
  {
   "cell_type": "markdown",
   "metadata": {},
   "source": [
    "Our \"unstacked\" object now looks like tabular data that are much easier to work with"
   ]
  },
  {
   "cell_type": "markdown",
   "metadata": {},
   "source": [
    "#### Pivot Table\n",
    "\n",
    "\"Pivot tables\" are a powerful tool very common in the world of spreadsheet-first data analytics. In fact, when analysts are first making the move from excel to python or R pivot tables are the feature they miss the most (and they generally find the in-code approximations of these tools overly burdensome). Pandas, nicely, has an API that feels familiar to this flavor of analysis.\n",
    "\n",
    "\n",
    "\n",
    "\n",
    "\n",
    "flights_by_carrier = data.pivot_table(index='flight_date', columns='unique_carrier', values='flight_num', aggfunc='count')\n",
    "flights_by_carrier.head()"
   ]
  },
  {
   "cell_type": "code",
   "execution_count": 12,
   "metadata": {},
   "outputs": [
    {
     "data": {
      "text/html": [
       "<div>\n",
       "<table border=\"1\" class=\"dataframe\">\n",
       "  <thead>\n",
       "    <tr style=\"text-align: right;\">\n",
       "      <th>borough</th>\n",
       "      <th>BRONX</th>\n",
       "      <th>BROOKLYN</th>\n",
       "      <th>MANHATTAN</th>\n",
       "      <th>QUEENS</th>\n",
       "      <th>STATEN ISLAND</th>\n",
       "      <th>Unspecified</th>\n",
       "    </tr>\n",
       "    <tr>\n",
       "      <th>status</th>\n",
       "      <th></th>\n",
       "      <th></th>\n",
       "      <th></th>\n",
       "      <th></th>\n",
       "      <th></th>\n",
       "      <th></th>\n",
       "    </tr>\n",
       "  </thead>\n",
       "  <tbody>\n",
       "    <tr>\n",
       "      <th>Assigned</th>\n",
       "      <td>909.0</td>\n",
       "      <td>1720.0</td>\n",
       "      <td>1703.0</td>\n",
       "      <td>1478.0</td>\n",
       "      <td>245.0</td>\n",
       "      <td>134.0</td>\n",
       "    </tr>\n",
       "    <tr>\n",
       "      <th>Closed</th>\n",
       "      <td>7885.0</td>\n",
       "      <td>15967.0</td>\n",
       "      <td>12087.0</td>\n",
       "      <td>12313.0</td>\n",
       "      <td>2613.0</td>\n",
       "      <td>6300.0</td>\n",
       "    </tr>\n",
       "    <tr>\n",
       "      <th>Email Sent</th>\n",
       "      <td>NaN</td>\n",
       "      <td>NaN</td>\n",
       "      <td>NaN</td>\n",
       "      <td>NaN</td>\n",
       "      <td>NaN</td>\n",
       "      <td>129.0</td>\n",
       "    </tr>\n",
       "    <tr>\n",
       "      <th>Open</th>\n",
       "      <td>9925.0</td>\n",
       "      <td>14224.0</td>\n",
       "      <td>9920.0</td>\n",
       "      <td>7578.0</td>\n",
       "      <td>1819.0</td>\n",
       "      <td>506.0</td>\n",
       "    </tr>\n",
       "    <tr>\n",
       "      <th>Pending</th>\n",
       "      <td>903.0</td>\n",
       "      <td>847.0</td>\n",
       "      <td>477.0</td>\n",
       "      <td>783.0</td>\n",
       "      <td>120.0</td>\n",
       "      <td>35.0</td>\n",
       "    </tr>\n",
       "    <tr>\n",
       "      <th>Started</th>\n",
       "      <td>64.0</td>\n",
       "      <td>132.0</td>\n",
       "      <td>101.0</td>\n",
       "      <td>129.0</td>\n",
       "      <td>20.0</td>\n",
       "      <td>1.0</td>\n",
       "    </tr>\n",
       "    <tr>\n",
       "      <th>Unassigned</th>\n",
       "      <td>NaN</td>\n",
       "      <td>NaN</td>\n",
       "      <td>NaN</td>\n",
       "      <td>NaN</td>\n",
       "      <td>NaN</td>\n",
       "      <td>2.0</td>\n",
       "    </tr>\n",
       "  </tbody>\n",
       "</table>\n",
       "</div>"
      ],
      "text/plain": [
       "borough      BRONX  BROOKLYN  MANHATTAN   QUEENS  STATEN ISLAND  Unspecified\n",
       "status                                                                      \n",
       "Assigned     909.0    1720.0     1703.0   1478.0          245.0        134.0\n",
       "Closed      7885.0   15967.0    12087.0  12313.0         2613.0       6300.0\n",
       "Email Sent     NaN       NaN        NaN      NaN            NaN        129.0\n",
       "Open        9925.0   14224.0     9920.0   7578.0         1819.0        506.0\n",
       "Pending      903.0     847.0      477.0    783.0          120.0         35.0\n",
       "Started       64.0     132.0      101.0    129.0           20.0          1.0\n",
       "Unassigned     NaN       NaN        NaN      NaN            NaN          2.0"
      ]
     },
     "execution_count": 12,
     "metadata": {},
     "output_type": "execute_result"
    }
   ],
   "source": [
    "status_by_borough = cleaned.pivot_table(index=\"status\", columns=\"borough\", values=\"created_date\", aggfunc=\"count\")\n",
    "status_by_borough.head(30)"
   ]
  },
  {
   "cell_type": "markdown",
   "metadata": {},
   "source": [
    "Exercise: \n",
    "* plot a line chart with complaints by day by borough (time on the x axis, one line per borough)\n",
    "\n",
    "```python\n",
    "# complaints[['Unique Key', 'Borough']].groupby([complaints.index.date, 'Borough']).count().unstack().plot()\n",
    "```"
   ]
  },
  {
   "cell_type": "markdown",
   "metadata": {},
   "source": [
    "## More Plotting with Seaborn"
   ]
  },
  {
   "cell_type": "code",
   "execution_count": 13,
   "metadata": {},
   "outputs": [
    {
     "name": "stdout",
     "output_type": "stream",
     "text": [
      "Collecting seaborn\n",
      "Collecting scipy (from seaborn)\n",
      "  Using cached scipy-0.19.0-cp35-cp35m-macosx_10_6_intel.macosx_10_9_intel.macosx_10_9_x86_64.macosx_10_10_intel.macosx_10_10_x86_64.whl\n",
      "Requirement already satisfied: numpy>=1.8.2 in /Users/michael/.virtualenvs/python-for-data-analysis/lib/python3.5/site-packages (from scipy->seaborn)\n",
      "Installing collected packages: scipy, seaborn\n",
      "Successfully installed scipy-0.19.0 seaborn-0.7.1\n"
     ]
    }
   ],
   "source": [
    "!pip install seaborn"
   ]
  },
  {
   "cell_type": "code",
   "execution_count": 17,
   "metadata": {
    "collapsed": true
   },
   "outputs": [],
   "source": [
    "%matplotlib inline\n",
    "import seaborn as sns\n",
    "pd.options.mode.chained_assignment = None"
   ]
  },
  {
   "cell_type": "code",
   "execution_count": 18,
   "metadata": {},
   "outputs": [
    {
     "name": "stdout",
     "output_type": "stream",
     "text": [
      "Replaced 15 values\n"
     ]
    },
    {
     "data": {
      "image/png": "[encoded data removed]",
      "text/plain": [
       "<matplotlib.figure.Figure at 0x11a197978>"
      ]
     },
     "metadata": {},
     "output_type": "display_data"
    }
   ],
   "source": [
    "# Do this part interactively\n",
    "bk_manh = cleaned.loc[cleaned['borough'].isin(['BROOKLYN', 'MANHATTAN'])]\n",
    "x = top_n('agency', 3, bk_manh).copy()\n",
    "bk_manh.loc[:,'cleaned_agency'] = x\n",
    "bk_manh = bk_manh.loc[bk_manh['time_to_resolution'] >= 0]\n",
    "bk_manh = bk_manh.loc[bk_manh['time_to_resolution'] <= 1000]\n",
    "\n",
    "# Draw a nested violinplot and split the violins for easier comparison\n",
    "sns.violinplot(x=\"cleaned_agency\", y=\"time_to_resolution\", hue=\"borough\", data=bk_manh, split=True,\n",
    "               inner=\"quart\", palette={\"BROOKLYN\": \"b\", \"MANHATTAN\": \"y\"})\n",
    "sns.despine(left=True)"
   ]
  },
  {
   "cell_type": "code",
   "execution_count": 19,
   "metadata": {},
   "outputs": [
    {
     "data": {
      "image/png": "[encoded data removed]",
      "text/plain": [
       "<matplotlib.figure.Figure at 0x11005fa90>"
      ]
     },
     "metadata": {},
     "output_type": "display_data"
    }
   ],
   "source": [
    "sns.set(style=\"whitegrid\", color_codes=True)\n",
    "sns.violinplot(x=\"cleaned_agency\", y=\"time_to_resolution\", hue=\"borough\", data=bk_manh, split=True,\n",
    "               inner=\"quart\", palette={\"BROOKLYN\": \"b\", \"MANHATTAN\": \"y\"})\n",
    "sns.despine(left=True)"
   ]
  },
  {
   "cell_type": "code",
   "execution_count": null,
   "metadata": {
    "collapsed": true
   },
   "outputs": [],
   "source": [
    "# Navigate to http://seaborn.pydata.org/tutorial/categorical.html and try out some of the categorical \n",
    "# plotting options with seaborn"
   ]
  },
  {
   "cell_type": "code",
   "execution_count": 26,
   "metadata": {},
   "outputs": [
    {
     "data": {
      "text/plain": [
       "<matplotlib.axes._subplots.AxesSubplot at 0x11a1015f8>"
      ]
     },
     "execution_count": 26,
     "metadata": {},
     "output_type": "execute_result"
    },
    {
     "data": {
      "image/png": "[encoded data removed]",
      "text/plain": [
       "<matplotlib.figure.Figure at 0x119cbf668>"
      ]
     },
     "metadata": {},
     "output_type": "display_data"
    }
   ],
   "source": [
    "sns.distplot(cleaned['time_to_resolution'].dropna())"
   ]
  },
  {
   "cell_type": "code",
   "execution_count": 25,
   "metadata": {},
   "outputs": [
    {
     "data": {
      "text/plain": [
       "<matplotlib.axes._subplots.AxesSubplot at 0x11a119320>"
      ]
     },
     "execution_count": 25,
     "metadata": {},
     "output_type": "execute_result"
    },
    {
     "data": {
      "image/png": "[encoded data removed]",
      "text/plain": [
       "<matplotlib.figure.Figure at 0x119cbf8d0>"
      ]
     },
     "metadata": {},
     "output_type": "display_data"
    }
   ],
   "source": [
    "no_zeroes = bk_manh.loc[bk_manh['time_to_resolution'] > 0]\n",
    "sns.distplot(no_zeroes['time_to_resolution'].dropna())"
   ]
  },
  {
   "cell_type": "code",
   "execution_count": 30,
   "metadata": {},
   "outputs": [
    {
     "data": {
      "image/png": "[encoded data removed]",
      "text/plain": [
       "<matplotlib.figure.Figure at 0x11a9d4400>"
      ]
     },
     "metadata": {},
     "output_type": "display_data"
    }
   ],
   "source": [
    "g = sns.FacetGrid(no_zeroes, row='borough', col='cleaned_agency', margin_titles=True)\n",
    "g.map(sns.distplot, \"time_to_resolution\")\n",
    "sns.plt.show()"
   ]
  },
  {
   "cell_type": "markdown",
   "metadata": {},
   "source": [
    "# Simple Linear Regression"
   ]
  },
  {
   "cell_type": "code",
   "execution_count": 31,
   "metadata": {
    "collapsed": true
   },
   "outputs": [],
   "source": [
    "# Find the coordinates of time square\n",
    "# Append column to df with distance to time square\n",
    "# Make a scatter plot\n",
    "# Introduce simple linear regression\n",
    "# Give intuitive explanation"
   ]
  }
 ],
 "metadata": {
  "kernelspec": {
   "display_name": "Python 3",
   "language": "python",
   "name": "python3"
  },
  "language_info": {
   "codemirror_mode": {
    "name": "ipython",
    "version": 3
   },
   "file_extension": ".py",
   "mimetype": "text/x-python",
   "name": "python",
   "nbconvert_exporter": "python",
   "pygments_lexer": "ipython3",
   "version": "3.5.2"
  }
 },
 "nbformat": 4,
 "nbformat_minor": 2
}
